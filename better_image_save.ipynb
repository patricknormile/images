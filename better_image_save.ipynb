{
 "cells": [
  {
   "cell_type": "code",
   "execution_count": null,
   "metadata": {},
   "outputs": [],
   "source": [
    "import numpy as np\n",
    "from skimage import io\n",
    "from sklearn.cluster import KMeans, SpectralClustering, Birch\n",
    "import matplotlib.pyplot as plt\n",
    "from sklearn.preprocessing import MinMaxScaler\n",
    "\n",
    "### this could be so much better!\n",
    "def cluster_image(image_path, clusters, alg, savename='', **kwargs) : \n",
    "    original = io.imread(image_path)\n",
    "    n_colors = clusters\n",
    "    arr = original.reshape((-1, 3))\n",
    "    clstr = alg(n_clusters=n_colors, **kwargs).fit(arr)\n",
    "    labels = clstr.labels_\n",
    "    centers = clstr.cluster_centers_\n",
    "    less_colors = centers[labels].reshape(original.shape).astype('uint8')\n",
    "    #plt.figure(figsize=(40,40),facecolor='white')\n",
    "    #io.imshow(less_colors)\n",
    "    io.imsave(savename, less_colors)\n",
    "    \n",
    "def cluster_image_spacefeatures(image_path, clusters, alg, savename='', **kwargs) : \n",
    "    original = io.imread(image_path)\n",
    "    rng = original.shape[0:2]\n",
    "    x,y = np.meshgrid(range(rng[0]), range(rng[1]))\n",
    "    scl = MinMaxScaler()\n",
    "    coordinate = np.concatenate([original.reshape(-1,3), x.reshape(-1, 1), y.reshape(-1, 1)], axis=1)\n",
    "    n_colors = clusters\n",
    "    clstr = alg(n_clusters=n_colors, **kwargs).fit(scl.fit_transform(coordinate))\n",
    "    labels = clstr.labels_\n",
    "    centers = clstr.cluster_centers_\n",
    "    unscal = scl.inverse_transform(centers[labels])\n",
    "    less_colors = unscal.reshape(tuple(list(original.shape[0:2]) +[5])).astype('uint8')[:,:,0:3]\n",
    "    #plt.figure(figsize=(40,40),facecolor='white')\n",
    "    #io.imshow(less_colors)\n",
    "    io.imsave(savename, less_colors)"
   ]
  },
  {
   "cell_type": "code",
   "execution_count": null,
   "metadata": {},
   "outputs": [],
   "source": [
    "image_paths = [#\"C:\\\\Users\\\\patno_000\\\\Desktop\\\\styletransfer\\\\PXL_20210613_190209204.jpg\",\n",
    "    #\"C:\\\\Users\\\\patno_000\\\\Desktop\\\\styletransfer\\\\PXL_20220304_202921736.jpg\",\n",
    "    #\"C:\\\\Users\\\\patno_000\\\\Desktop\\\\styletransfer\\\\PXL_20220321_170359913.jpg\",\n",
    "    #\"C:\\\\Users\\\\patno_000\\\\Desktop\\\\styletransfer\\\\PXL_20210727_230823665.jpg\",\n",
    "    #\"C:\\\\Users\\\\patno_000\\\\Desktop\\\\styletransfer\\\\IMG_20200802_132731.jpg\",\n",
    "    \"C:\\\\Users\\\\patno_000\\\\Desktop\\\\image_clusters\\\\curtphoto.jpg\"\n",
    "]\n",
    "ks = [2,3,4,5,6,]"
   ]
  },
  {
   "cell_type": "code",
   "execution_count": null,
   "metadata": {},
   "outputs": [],
   "source": [
    "from itertools import product\n",
    "for i, k in product(image_paths, ks) :\n",
    "    kwargs = {'random_state':42}\n",
    "    #cluster_image(i, k, KMeans, f\"kmeans_curtmountain_{k}.png\", **kwargs)\n",
    "    #cluster_image_spacefeatures(i, k, KMeans, f\"kmeanswspace_curtmountain_{k}.png\", **kwargs)\n",
    "    cluster_image(i, k, Birch, f\"birch_curtmountain_{k}.png\")\n",
    "    cluster_image_spacefeatures(i, k, Birch, f\"birchspace_curtmountain_{k}.png\")"
   ]
  }
 ],
 "metadata": {
  "kernelspec": {
   "display_name": "Python 3",
   "language": "python",
   "name": "python3"
  },
  "language_info": {
   "codemirror_mode": {
    "name": "ipython",
    "version": 3
   },
   "file_extension": ".py",
   "mimetype": "text/x-python",
   "name": "python",
   "nbconvert_exporter": "python",
   "pygments_lexer": "ipython3",
   "version": "3.8.3"
  },
  "varInspector": {
   "cols": {
    "lenName": 16,
    "lenType": 16,
    "lenVar": 40
   },
   "kernels_config": {
    "python": {
     "delete_cmd_postfix": "",
     "delete_cmd_prefix": "del ",
     "library": "var_list.py",
     "varRefreshCmd": "print(var_dic_list())"
    },
    "r": {
     "delete_cmd_postfix": ") ",
     "delete_cmd_prefix": "rm(",
     "library": "var_list.r",
     "varRefreshCmd": "cat(var_dic_list()) "
    }
   },
   "types_to_exclude": [
    "module",
    "function",
    "builtin_function_or_method",
    "instance",
    "_Feature"
   ],
   "window_display": false
  }
 },
 "nbformat": 4,
 "nbformat_minor": 4
}
